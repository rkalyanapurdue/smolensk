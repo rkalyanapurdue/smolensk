{
 "cells": [
  {
   "cell_type": "code",
   "execution_count": 2,
   "metadata": {},
   "outputs": [
    {
     "data": {
      "application/vnd.jupyter.widget-view+json": {
       "model_id": "d62d16f5cf164e87964e26983d09ec9c",
       "version_major": 2,
       "version_minor": 0
      },
      "text/plain": [
       "VBox(children=(IntSlider(value=25, continuous_update=False, description=u'Radius:', min=5, step=5), Output()))"
      ]
     },
     "metadata": {},
     "output_type": "display_data"
    }
   ],
   "source": [
    "import csv\n",
    "import pandas as pd\n",
    "import numpy as np\n",
    "\n",
    "import folium\n",
    "import folium.plugins as plugins\n",
    "from folium.plugins import HeatMapWithTime\n",
    "import ipywidgets as widgets\n",
    "from IPython.display import HTML\n",
    "from IPython.display import display\n",
    "\n",
    "#create the UI for the map and radius selection\n",
    "\n",
    "#output widget for the map\n",
    "out = widgets.Output()\n",
    "\n",
    "#selection widgets for army group and num\n",
    "radius_sel = widgets.IntSlider(\n",
    "                    value=25,\n",
    "                    min=5,\n",
    "                    max=100,\n",
    "                    step=5,\n",
    "                    description='Radius:',\n",
    "                    disabled=False,\n",
    "                    continuous_update=False,\n",
    "                    orientation='horizontal',\n",
    "                    readout=True,\n",
    "                    readout_format='d'\n",
    "                )\n",
    "\n",
    "#parse and load csv file into a Pandas DataFrame\n",
    "filename = 'Division.csv'\n",
    "csvfile = open(filename,'r')\n",
    "df = pd.read_csv(csvfile,parse_dates=['MAP_DATE'])\n",
    "\n",
    "#specify the three dates we are interested in\n",
    "beg = '1941-07-11'\n",
    "mid = '1941-08-02'\n",
    "end = '1941-09-10'\n",
    "\n",
    "#filter the DataFrame for each of these dates and keep only the location and weight columns\n",
    "beg_data = df.loc[df['MAP_DATE'] == beg,['POINT_Y','POINT_X','Weight_D']]\n",
    "mid_data = df.loc[df['MAP_DATE'] == mid,['POINT_Y','POINT_X','Weight_D']]\n",
    "end_data = df.loc[df['MAP_DATE'] == end,['POINT_Y','POINT_X','Weight_D']]\n",
    "\n",
    "#drop rows with NaN Weight_D values\n",
    "beg_data.dropna(inplace=True)\n",
    "mid_data.dropna(inplace=True)\n",
    "end_data.dropna(inplace=True)\n",
    "\n",
    "#make sure to interpret the location as a float number\n",
    "beg_data['POINT_X'] = beg_data['POINT_X'].astype(float)\n",
    "beg_data['POINT_Y'] = beg_data['POINT_Y'].astype(float)\n",
    "beg_data['Weight_D'] = beg_data['Weight_D'].astype(float)\n",
    "mid_data['POINT_X'] = mid_data['POINT_X'].astype(float)\n",
    "mid_data['POINT_Y'] = mid_data['POINT_Y'].astype(float)\n",
    "mid_data['Weight_D'] = mid_data['Weight_D'].astype(float)\n",
    "end_data['POINT_X'] = end_data['POINT_X'].astype(float)\n",
    "end_data['POINT_Y'] = end_data['POINT_Y'].astype(float)\n",
    "end_data['Weight_D'] = end_data['Weight_D'].astype(float)\n",
    "\n",
    "#create the list of list of lists of locations for the heat map animation\n",
    "#also include weight to incorporate that into the heatmap\n",
    "beg_heat_data = beg_data.values.tolist()\n",
    "mid_heat_data = mid_data.values.tolist()\n",
    "end_heat_data = end_data.values.tolist()\n",
    "\n",
    "#heat map data to use for every map\n",
    "heat_data = [beg_heat_data,mid_heat_data,end_heat_data]\n",
    "\n",
    "#event handler for radius change\n",
    "def on_radius_change(change):\n",
    "    new_radius = change['new']\n",
    "    display_map(new_radius,out)\n",
    "\n",
    "#assign event handler for radius change\n",
    "radius_sel.observe(on_radius_change, names='value')\n",
    "\n",
    "#function to display map for given radius and output widget\n",
    "def display_map(req_radius,output_widget):\n",
    "    output_widget.clear_output()\n",
    "\n",
    "    #create a map zoomed in around Smolensk\n",
    "    battle_map = folium.Map([54.78, 32.04],zoom_start=6)\n",
    "    #add a heat map with a time dimension\n",
    "    HeatMapWithTime(heat_data,auto_play=False,max_opacity=0.7,radius=req_radius).add_to(battle_map)\n",
    "\n",
    "    with output_widget:\n",
    "        iframe = battle_map._repr_html_()\n",
    "        display(HTML(iframe))\n",
    "\n",
    "#initial call to display default map\n",
    "display_map(25,out)\n",
    "\n",
    "#output UI\n",
    "res = widgets.VBox([radius_sel,out])\n",
    "res"
   ]
  },
  {
   "cell_type": "code",
   "execution_count": null,
   "metadata": {
    "collapsed": true
   },
   "outputs": [],
   "source": []
  }
 ],
 "metadata": {
  "kernelspec": {
   "display_name": "Python 2",
   "language": "python",
   "name": "python2"
  },
  "language_info": {
   "codemirror_mode": {
    "name": "ipython",
    "version": 2
   },
   "file_extension": ".py",
   "mimetype": "text/x-python",
   "name": "python",
   "nbconvert_exporter": "python",
   "pygments_lexer": "ipython2",
   "version": "2.7.13"
  }
 },
 "nbformat": 4,
 "nbformat_minor": 2
}
