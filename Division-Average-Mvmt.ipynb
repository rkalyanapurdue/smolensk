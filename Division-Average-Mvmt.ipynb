{
 "cells": [
  {
   "cell_type": "code",
   "execution_count": 6,
   "metadata": {},
   "outputs": [
    {
     "data": {
      "text/html": [
       "<div style=\"width:100%;\"><div style=\"position:relative;width:100%;height:0;padding-bottom:60%;\"><iframe src=\"data:text/html;charset=utf-8;base64,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\" style=\"position:absolute;width:100%;height:100%;left:0;top:0;border:none !important;\" allowfullscreen webkitallowfullscreen mozallowfullscreen></iframe></div></div>"
      ],
      "text/plain": [
       "<folium.folium.Map at 0x7fc719df0190>"
      ]
     },
     "execution_count": 6,
     "metadata": {},
     "output_type": "execute_result"
    }
   ],
   "source": [
    "import csv\n",
    "import pandas as pd\n",
    "import numpy as np\n",
    "import nvector as nv\n",
    "\n",
    "import folium\n",
    "import folium.plugins as plugins\n",
    "import ipywidgets as widgets\n",
    "from IPython.display import HTML\n",
    "from IPython.display import display\n",
    "\n",
    "#parse and load csv file into a Pandas DataFrame\n",
    "csvfile = 'https://raw.githubusercontent.com/rkalyanapurdue/smolensk/master/Division.csv'\n",
    "df = pd.read_csv(csvfile,parse_dates=['MAP_DATE'])\n",
    "\n",
    "#group the data by Army group and num\n",
    "grouped_div = df.groupby(['Army_Group','Num_Name'])\n",
    "\n",
    "def get_div_origin_dest(div_data_df):\n",
    "    div_data = dict()\n",
    "    for row in div_data_df.itertuples():\n",
    "        if row.MAP_DATE not in div_data:\n",
    "            div_data[row.MAP_DATE] = dict()\n",
    "            div_data[row.MAP_DATE]['POINT_Y'] = row.POINT_Y\n",
    "            div_data[row.MAP_DATE]['POINT_X'] = row.POINT_X\n",
    "    div_locs = []\n",
    "    for key in sorted(div_data):\n",
    "        div_loc = dict()\n",
    "        div_loc['POINT_Y'] = div_data[key]['POINT_Y']\n",
    "        div_loc['POINT_X'] = div_data[key]['POINT_X']\n",
    "        div_locs.append(div_loc)\n",
    "    #there is an origin and dest\n",
    "    if len(div_locs) > 1:\n",
    "        origin = div_locs[0]\n",
    "        dest = div_locs[len(div_locs)-1]\n",
    "        return [[origin['POINT_Y'],origin['POINT_X']],\n",
    "                [dest['POINT_Y'],dest['POINT_X']]]\n",
    "    else:\n",
    "        return None\n",
    "\n",
    "origin_lats = []\n",
    "origin_lons = []\n",
    "dest_lats = []\n",
    "dest_lons = []\n",
    "\n",
    "#iterate over divisions\n",
    "for group_key in grouped_div.groups.keys():\n",
    "    #weed out groups that don't have a valid num\n",
    "    if isinstance(group_key[1],str):\n",
    "        div_df = grouped_div.get_group(group_key)[['POINT_X','POINT_Y','MAP_DATE']]\n",
    "        #get division's origin and destination\n",
    "        div_coords = get_div_origin_dest(div_df)\n",
    "        if div_coords is not None:\n",
    "            origin_lats.append(div_coords[0][0])\n",
    "            origin_lons.append(div_coords[0][1])\n",
    "            dest_lats.append(div_coords[1][0])\n",
    "            dest_lons.append(div_coords[1][1])\n",
    "\n",
    "points = nv.GeoPoint(latitude=origin_lats,longitude=origin_lons,degrees=True)\n",
    "nvectors = points.to_nvector()\n",
    "n_EM_E = nvectors.mean_horizontal_position()\n",
    "g_EM_E = n_EM_E.to_geo_point()\n",
    "lat, lon = g_EM_E.latitude_deg, g_EM_E.longitude_deg\n",
    "mean_origin = [lat[0],lon[0]]\n",
    "\n",
    "points = nv.GeoPoint(latitude=dest_lats,longitude=dest_lons,degrees=True)\n",
    "nvectors = points.to_nvector()\n",
    "n_EM_E = nvectors.mean_horizontal_position()\n",
    "g_EM_E = n_EM_E.to_geo_point()\n",
    "lat, lon = g_EM_E.latitude_deg, g_EM_E.longitude_deg\n",
    "mean_dest = [lat[0],lon[0]]\n",
    "\n",
    "#now create the map\n",
    "div_map = folium.Map([54.78, 32.04],zoom_start=6)\n",
    "\n",
    "#first the markers\n",
    "folium.CircleMarker(mean_origin,radius=4,color='green').add_to(div_map)\n",
    "folium.CircleMarker(mean_dest,radius=4,color='red').add_to(div_map)\n",
    "orig_dest_pair = [mean_origin,mean_dest]\n",
    "vect_line = folium.PolyLine(locations=orig_dest_pair,weight=1,color='black')\n",
    "div_map.add_child(vect_line)\n",
    "    \n",
    "div_map"
   ]
  },
  {
   "cell_type": "code",
   "execution_count": null,
   "metadata": {
    "collapsed": true
   },
   "outputs": [],
   "source": []
  }
 ],
 "metadata": {
  "kernelspec": {
   "display_name": "Python 2",
   "language": "python",
   "name": "python2"
  },
  "language_info": {
   "codemirror_mode": {
    "name": "ipython",
    "version": 2
   },
   "file_extension": ".py",
   "mimetype": "text/x-python",
   "name": "python",
   "nbconvert_exporter": "python",
   "pygments_lexer": "ipython2",
   "version": "2.7.13"
  }
 },
 "nbformat": 4,
 "nbformat_minor": 2
}
