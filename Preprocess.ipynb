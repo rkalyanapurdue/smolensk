{
 "cells": [
  {
   "cell_type": "code",
   "execution_count": 1,
   "metadata": {},
   "outputs": [],
   "source": [
    "import csv\n",
    "import pandas as pd\n",
    "\n",
    "#parse and load csv file into a new csv file with the right year & not all columns\n",
    "filename = 'Div_Date_Loc_Clean.csv'\n",
    "csvfile = open(filename,'r')\n",
    "\n",
    "outfile = open('Divisions.csv','w')\n",
    "reader = csv.DictReader(csvfile)\n",
    "header = []\n",
    "for field in reader.fieldnames:\n",
    "    if len(field) > 0:\n",
    "        if 'OBJECT' in field:\n",
    "            continue\n",
    "        else:\n",
    "            header.append(field)\n",
    "writer = csv.DictWriter(outfile,fieldnames=header)\n",
    "writer.writeheader()\n",
    "for row in reader:\n",
    "    out = dict()\n",
    "    for field in header:\n",
    "        val = row[field]\n",
    "        if field == 'DATE':\n",
    "            out[field] = val.replace('41','1941')\n",
    "        else:\n",
    "            out[field] = val\n",
    "    writer.writerow(out)\n",
    "outfile.close()\n",
    "csvfile.close()"
   ]
  },
  {
   "cell_type": "code",
   "execution_count": null,
   "metadata": {},
   "outputs": [],
   "source": []
  }
 ],
 "metadata": {
  "kernelspec": {
   "display_name": "Python 2",
   "language": "python",
   "name": "python2"
  },
  "language_info": {
   "codemirror_mode": {
    "name": "ipython",
    "version": 2
   },
   "file_extension": ".py",
   "mimetype": "text/x-python",
   "name": "python",
   "nbconvert_exporter": "python",
   "pygments_lexer": "ipython2",
   "version": "2.7.5"
  }
 },
 "nbformat": 4,
 "nbformat_minor": 2
}
