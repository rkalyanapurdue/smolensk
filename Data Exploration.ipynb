{
 "cells": [
  {
   "cell_type": "code",
   "execution_count": 2,
   "metadata": {},
   "outputs": [
    {
     "name": "stdout",
     "output_type": "stream",
     "text": [
      "78\n"
     ]
    }
   ],
   "source": [
    "import csv\n",
    "import pandas as pd\n",
    "import math\n",
    "\n",
    "csvfile = 'Divisions.csv'\n",
    "df = pd.read_csv(csvfile,parse_dates=['DATE'])\n",
    "\n",
    "#first get all possible map dates\n",
    "date_group_div = df.groupby(['DATE'])\n",
    "\n",
    "all_dates = date_group_div.groups.keys()\n",
    "\n",
    "#print sorted(all_dates)\n",
    "\n",
    "#group the data by Army group and num\n",
    "grouped_div = df.groupby(['Unit Type','Number'])\n",
    "\n",
    "count = 0\n",
    "for key,item in grouped_div:\n",
    "    if key[0] != 'Inf Div':\n",
    "        continue\n",
    "    count += 1\n",
    "    #div_df = grouped_div.get_group(key)[['POINT_Y','POINT_X','DATE','Unit Type','Type_D','Weight_D','Weight_ND']]\n",
    "    #for row in div_df.itertuples():\n",
    "    #    print row\n",
    "\n",
    "print count\n"
   ]
  },
  {
   "cell_type": "code",
   "execution_count": 56,
   "metadata": {},
   "outputs": [
    {
     "name": "stdout",
     "output_type": "stream",
     "text": [
      "{'Fraction_Division': '', 'Type_ND': '', 'ORIG_FID': '1690', 'CU_KIND': '1', 'Type_D': 'INF', 'Unit Type': 'Gr. Schubert', 'Number': '', 'Weight_D': '3', 'Weight_ND': '', 'POINT_Y': '56.03119491', 'POINT_X': '30.65267548', 'DATE': '7/30/1941 0:00', 'Situation': '0'}\n"
     ]
    }
   ],
   "source": [
    "groups = []\n",
    "with open(csvfile,'r') as srcfile:\n",
    "    reader = csv.DictReader(srcfile)\n",
    "    for row in reader:\n",
    "        val = (row['Unit Type'],row['Number'])\n",
    "        if row['Unit Type'] == 'Gr. Schubert':\n",
    "            print row\n"
   ]
  },
  {
   "cell_type": "code",
   "execution_count": null,
   "metadata": {},
   "outputs": [],
   "source": []
  }
 ],
 "metadata": {
  "kernelspec": {
   "display_name": "Python 2",
   "language": "python",
   "name": "python2"
  },
  "language_info": {
   "codemirror_mode": {
    "name": "ipython",
    "version": 2
   },
   "file_extension": ".py",
   "mimetype": "text/x-python",
   "name": "python",
   "nbconvert_exporter": "python",
   "pygments_lexer": "ipython2",
   "version": "2.7.5"
  }
 },
 "nbformat": 4,
 "nbformat_minor": 2
}
