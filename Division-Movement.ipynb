{
 "cells": [
  {
   "cell_type": "code",
   "execution_count": 9,
   "metadata": {},
   "outputs": [
    {
     "data": {
      "application/vnd.jupyter.widget-view+json": {
       "model_id": "29dc66bc817249ba945d81cd2b5e049f",
       "version_major": 2,
       "version_minor": 0
      },
      "text/plain": [
       "VBox(children=(HBox(children=(Dropdown(options=('Masse MOT Division', 'Mass INF Division', 'Tle. CAV Division'…"
      ]
     },
     "metadata": {},
     "output_type": "display_data"
    }
   ],
   "source": [
    "import csv\n",
    "import pandas as pd\n",
    "import numpy as np\n",
    "\n",
    "import folium\n",
    "import folium.plugins as plugins\n",
    "import ipywidgets as widgets\n",
    "from IPython.display import HTML\n",
    "\n",
    "#parse and load csv file into a Pandas DataFrame\n",
    "csvfile = 'https://raw.githubusercontent.com/rkalyanapurdue/smolensk/master/Division.csv'\n",
    "df = pd.read_csv(csvfile,parse_dates=['MAP_DATE'])\n",
    "\n",
    "#group the data by Army group and num\n",
    "grouped_div = df.groupby(['Army_Group','Num_Name'])\n",
    "\n",
    "#create a dictionary of the army groups and nums to use in a selection widget\n",
    "army_groups = dict()\n",
    "for group_keys in grouped_div.groups.keys():\n",
    "    army_group = group_keys[0]\n",
    "    div_num = group_keys[1]\n",
    "    if isinstance(div_num,str):\n",
    "        if army_group in army_groups:\n",
    "            army_groups[army_group].append(div_num)\n",
    "        else:\n",
    "            army_groups[army_group] = [div_num]\n",
    "\n",
    "#output widget for the map\n",
    "out = widgets.Output()\n",
    "\n",
    "#selection widgets for army group and num\n",
    "group_sel = widgets.Dropdown(options=army_groups.keys())\n",
    "div_sel = widgets.Dropdown(options=['-'])\n",
    "\n",
    "#event handler\n",
    "def on_group_sel(change):\n",
    "    if change['new'] in army_groups:\n",
    "        div_sel.options = army_groups[change['new']]\n",
    "\n",
    "group_sel.observe(on_group_sel,'value')\n",
    "\n",
    "def on_div_sel(change):\n",
    "    if change['new'] is not None:\n",
    "        plot_div_movement(group_sel.value,change['new'])\n",
    "    \n",
    "div_sel.observe(on_div_sel,'value')\n",
    "\n",
    "#main function to plot the movement of a selected group and num\n",
    "def plot_div_movement(army_group,num_name):\n",
    "    division_map = folium.Map([54.78, 32.04],zoom_start=6)\n",
    "    div_df = grouped_div.get_group((army_group,num_name))[['POINT_Y','POINT_X','OBJECTID','MAP_DATE']]\n",
    "    features = [\n",
    "      {\n",
    "          \"type\": \"Feature\",\n",
    "          \"geometry\": {\n",
    "              \"type\": \"Point\",\n",
    "              \"coordinates\": [row.POINT_X,row.POINT_Y]\n",
    "          },\n",
    "          \"properties\":{\n",
    "              \"icon\": \"marker\", \n",
    "              \"iconstyle\": {\n",
    "                  \"iconSize\": [30, 30], \n",
    "                  \"iconUrl\":\"https://github.com/rkalyanapurdue/smolensk/raw/master/tank.png\"}, \n",
    "              \"time\": str(row.MAP_DATE)[:10]}\n",
    "      }\n",
    "      for row in div_df.itertuples()\n",
    "  ]\n",
    "\n",
    "    plugins.TimestampedGeoJson({\n",
    "      'type': 'FeatureCollection',\n",
    "      'features': features\n",
    "  }, add_last_point=True).add_to(division_map)\n",
    "\n",
    "    out.clear_output()\n",
    "    iframe = division_map._repr_html_()\n",
    "    out.append_display_data(HTML(iframe))\n",
    "    return\n",
    "\n",
    "#output UI\n",
    "sel_ui = widgets.HBox([group_sel,div_sel])\n",
    "res = widgets.VBox([sel_ui,out])\n",
    "res"
   ]
  },
  {
   "cell_type": "code",
   "execution_count": null,
   "metadata": {
    "collapsed": true
   },
   "outputs": [],
   "source": []
  }
 ],
 "metadata": {
  "kernelspec": {
   "display_name": "Python 2",
   "language": "python",
   "name": "python2"
  },
  "language_info": {
   "codemirror_mode": {
    "name": "ipython",
    "version": 2
   },
   "file_extension": ".py",
   "mimetype": "text/x-python",
   "name": "python",
   "nbconvert_exporter": "python",
   "pygments_lexer": "ipython2",
   "version": "2.7.13"
  }
 },
 "nbformat": 4,
 "nbformat_minor": 2
}
